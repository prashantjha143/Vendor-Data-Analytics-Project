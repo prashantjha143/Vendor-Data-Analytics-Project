{
 "cells": [
  {
   "cell_type": "code",
   "execution_count": 4,
   "id": "dedc0a63-24fa-461e-a2e5-a626316ebe63",
   "metadata": {},
   "outputs": [],
   "source": [
    "import pandas as pd\n",
    "import os\n",
    "from sqlalchemy import create_engine\n",
    "import logging\n",
    "import time\n",
    "\n",
    "\n",
    "logging.basicConfig(\n",
    "    filename = \"logs/ingestion_db.log\",\n",
    "    level = logging.DEBUG,\n",
    "    format = \"%(asctime)s -%(levelname)s -%(message)s\",\n",
    "    filemode=\"a\"\n",
    ")\n",
    "\n",
    "engine = create_engine('sqlite:///inventory.db')\n",
    "\n",
    "def ingest_db(df,table_name,engine):\n",
    "    '''This function will ingest the dataframe into database table'''\n",
    "    df.to_sql(table_name,con = engine,if_exists = 'replace',index = 'False')\n",
    "    \n",
    "def load_raw_data():\n",
    "    '''This function will load CSV into dataframe and ingest them into db'''\n",
    "    logging.info('Ingeston start')\n",
    "    start = time.time()\n",
    "    for file in os.listdir('C:\\\\Users\\\\admin\\\\Documents\\\\study\\\\data anlytics\\\\end to end\\\\data'):\n",
    "        if'.csv' in file:\n",
    "            # print('---',file,'---')\n",
    "            df = pd.read_csv('C:\\\\Users\\\\admin\\\\Documents\\\\study\\\\data anlytics\\\\end to end\\\\data\\\\'+file)\n",
    "            logging.info(f'Ingesting {file} in db' )\n",
    "            ingest_db(df,file[:-4],engine)\n",
    "    end = time.time()\n",
    "    total_time = (end -start)/60\n",
    "    logging.info('--------Ingestion complete---------')\n",
    "    logging.info(f'Total Time Taken: {total_time} minutes')\n",
    "\n",
    "if __name__=='__main__':\n",
    "    load_raw_data()"
   ]
  },
  {
   "cell_type": "code",
   "execution_count": null,
   "id": "417180eb-ce1e-4eee-906f-564c3892bfe8",
   "metadata": {},
   "outputs": [],
   "source": []
  }
 ],
 "metadata": {
  "kernelspec": {
   "display_name": "Python 3 (ipykernel)",
   "language": "python",
   "name": "python3"
  },
  "language_info": {
   "codemirror_mode": {
    "name": "ipython",
    "version": 3
   },
   "file_extension": ".py",
   "mimetype": "text/x-python",
   "name": "python",
   "nbconvert_exporter": "python",
   "pygments_lexer": "ipython3",
   "version": "3.12.7"
  }
 },
 "nbformat": 4,
 "nbformat_minor": 5
}
